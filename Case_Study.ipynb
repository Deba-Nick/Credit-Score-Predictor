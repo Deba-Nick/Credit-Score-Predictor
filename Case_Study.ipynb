{
  "nbformat": 4,
  "nbformat_minor": 0,
  "metadata": {
    "colab": {
      "provenance": [],
      "authorship_tag": "ABX9TyPjkeLUvz+skdWc0yzP1Zh2",
      "include_colab_link": true
    },
    "kernelspec": {
      "name": "python3",
      "display_name": "Python 3"
    },
    "language_info": {
      "name": "python"
    }
  },
  "cells": [
    {
      "cell_type": "markdown",
      "metadata": {
        "id": "view-in-github",
        "colab_type": "text"
      },
      "source": [
        "<a href=\"https://colab.research.google.com/github/Deba-Nick/Credit-Score-Predictor/blob/main/Case_Study.ipynb\" target=\"_parent\"><img src=\"https://colab.research.google.com/assets/colab-badge.svg\" alt=\"Open In Colab\"/></a>"
      ]
    },
    {
      "cell_type": "code",
      "execution_count": 1,
      "metadata": {
        "colab": {
          "base_uri": "https://localhost:8080/"
        },
        "id": "ku-VHTueTSMX",
        "outputId": "82174dcc-2f0a-4a0b-bc00-9f36482d1315"
      },
      "outputs": [
        {
          "output_type": "stream",
          "name": "stderr",
          "text": [
            "/usr/local/lib/python3.11/dist-packages/sklearn/linear_model/_logistic.py:465: ConvergenceWarning: lbfgs failed to converge (status=1):\n",
            "STOP: TOTAL NO. of ITERATIONS REACHED LIMIT.\n",
            "\n",
            "Increase the number of iterations (max_iter) or scale the data as shown in:\n",
            "    https://scikit-learn.org/stable/modules/preprocessing.html\n",
            "Please also refer to the documentation for alternative solver options:\n",
            "    https://scikit-learn.org/stable/modules/linear_model.html#logistic-regression\n",
            "  n_iter_i = _check_optimize_result(\n"
          ]
        },
        {
          "output_type": "stream",
          "name": "stdout",
          "text": [
            "Enter Age: 25\n",
            "Enter Gender (Male/Female): Male\n",
            "Enter Income: 4500000\n",
            "Enter Education (High School Diploma/Associate's Degree/Bachelor's Degree/Master's Degree/Doctorate): Master's Degree\n",
            "Enter Marital Status (Single/Married): Single\n",
            "Enter Number of Children: 0\n",
            "Enter Home Ownership (Rented/Owned): Owned\n",
            "\n",
            "Predicted Credit Score: ['High']\n"
          ]
        }
      ],
      "source": [
        "import pandas as pd\n",
        "from sklearn.preprocessing import LabelEncoder\n",
        "from sklearn.linear_model import LogisticRegression\n",
        "\n",
        "data = pd.read_csv('/content/Credit Score Classification Dataset.csv')\n",
        "\n",
        "label_encoders = {}\n",
        "for column in ['Gender', 'Education', 'Marital Status', 'Home Ownership', 'Credit Score']:\n",
        "    le = LabelEncoder()\n",
        "    data[column] = le.fit_transform(data[column])\n",
        "    label_encoders[column] = le\n",
        "\n",
        "X = data.drop('Credit Score', axis=1)\n",
        "y = data['Credit Score']\n",
        "\n",
        "model = LogisticRegression(max_iter=1000)\n",
        "model.fit(X, y)\n",
        "\n",
        "def predict_credit_score(new_data):\n",
        "    new_data_df = pd.DataFrame(new_data)\n",
        "    for column in ['Gender', 'Education', 'Marital Status', 'Home Ownership']:\n",
        "        new_data_df[column] = label_encoders[column].transform(new_data_df[column])\n",
        "    predictions = model.predict(new_data_df)\n",
        "    return label_encoders['Credit Score'].inverse_transform(predictions)\n",
        "\n",
        "def get_user_input():\n",
        "    age = int(input(\"Enter Age: \"))\n",
        "    gender = input(\"Enter Gender (Male/Female): \")\n",
        "    income = float(input(\"Enter Income: \"))\n",
        "    education = input(\"Enter Education (High School Diploma/Associate's Degree/Bachelor's Degree/Master's Degree/Doctorate): \")\n",
        "    marital_status = input(\"Enter Marital Status (Single/Married): \")\n",
        "    number_of_children = int(input(\"Enter Number of Children: \"))\n",
        "    home_ownership = input(\"Enter Home Ownership (Rented/Owned): \")\n",
        "\n",
        "    return [{\n",
        "        'Age': age,\n",
        "        'Gender': gender,\n",
        "        'Income': income,\n",
        "        'Education': education,\n",
        "        'Marital Status': marital_status,\n",
        "        'Number of Children': number_of_children,\n",
        "        'Home Ownership': home_ownership\n",
        "    }]\n",
        "\n",
        "if __name__ == \"__main__\":\n",
        "    user_data = get_user_input()\n",
        "    predicted_scores = predict_credit_score(user_data)\n",
        "    print(\"\\nPredicted Credit Score:\", predicted_scores)"
      ]
    }
  ]
}